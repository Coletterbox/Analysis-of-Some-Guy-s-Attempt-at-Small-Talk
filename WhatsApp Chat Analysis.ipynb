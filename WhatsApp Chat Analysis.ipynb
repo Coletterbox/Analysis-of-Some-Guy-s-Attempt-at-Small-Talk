{
 "cells": [
  {
   "cell_type": "code",
   "execution_count": 14,
   "id": "a82b1b47",
   "metadata": {},
   "outputs": [],
   "source": [
    "import pandas as pd\n",
    "import numpy as np\n",
    "import re\n",
    "import dateparser\n",
    "from collections import Counter\n",
    "from wordcloud import WordCloud"
   ]
  },
  {
   "cell_type": "code",
   "execution_count": 2,
   "id": "2a22f5ba",
   "metadata": {},
   "outputs": [],
   "source": [
    "def read_file(file):\n",
    "    x = open(file,'r', encoding = 'utf-8')\n",
    "    y = x.read()\n",
    "    content = y.splitlines()\n",
    "    return content"
   ]
  },
  {
   "cell_type": "code",
   "execution_count": 3,
   "id": "722a791c",
   "metadata": {},
   "outputs": [
    {
     "data": {
      "text/plain": [
       "'09/07/2021, 20:39 - Mathieu: Hello there'"
      ]
     },
     "execution_count": 3,
     "metadata": {},
     "output_type": "execute_result"
    }
   ],
   "source": [
    "# the text file is just a WhatsApp chat log import\n",
    "chat = read_file('Chat2.txt')\n",
    "chat[1]"
   ]
  },
  {
   "cell_type": "code",
   "execution_count": 4,
   "id": "d914db25",
   "metadata": {},
   "outputs": [
    {
     "data": {
      "text/plain": [
       "329"
      ]
     },
     "execution_count": 4,
     "metadata": {},
     "output_type": "execute_result"
    }
   ],
   "source": [
    "chat = [line.strip() for line in chat]\n",
    "msgs = []\n",
    "pos = 0\n",
    "for line in chat:\n",
    "    if re.findall(\"\\A\\d+[/]\", line):\n",
    "        msgs.append(line)\n",
    "        pos += 1\n",
    "    else:\n",
    "        take = msgs[pos-1] + \". \" + line\n",
    "        msgs.append(take)\n",
    "        msgs.pop(pos-1)\n",
    "len(msgs)"
   ]
  },
  {
   "cell_type": "code",
   "execution_count": 5,
   "id": "57ef331c",
   "metadata": {},
   "outputs": [],
   "source": [
    "# I don't think I'm going to do anything with this\n",
    "time = [msgs[i].split(',')[1].split('-')[0] for i in range(len(msgs))]\n",
    "time = [s.strip(' ') for s in time]"
   ]
  },
  {
   "cell_type": "code",
   "execution_count": 6,
   "id": "617ae935",
   "metadata": {},
   "outputs": [
    {
     "data": {
      "text/plain": [
       "329"
      ]
     },
     "execution_count": 6,
     "metadata": {},
     "output_type": "execute_result"
    }
   ],
   "source": [
    "date = [msgs[i].split(',')[0] for i in range(len(msgs))]\n",
    "len(date)\n",
    "name = [msgs[i].split('-')[1].split(':')[0] for i in range(len(msgs))]\n",
    "len(name)\n",
    "content = []\n",
    "for i in range(len(msgs)):\n",
    "  try:\n",
    "    content.append(msgs[i].split(':')[2])\n",
    "  except IndexError:\n",
    "    content.append('Missing Text')\n",
    "len(content)"
   ]
  },
  {
   "cell_type": "code",
   "execution_count": 7,
   "id": "9114a316",
   "metadata": {},
   "outputs": [
    {
     "data": {
      "text/html": [
       "<div>\n",
       "<style scoped>\n",
       "    .dataframe tbody tr th:only-of-type {\n",
       "        vertical-align: middle;\n",
       "    }\n",
       "\n",
       "    .dataframe tbody tr th {\n",
       "        vertical-align: top;\n",
       "    }\n",
       "\n",
       "    .dataframe thead th {\n",
       "        text-align: right;\n",
       "    }\n",
       "</style>\n",
       "<table border=\"1\" class=\"dataframe\">\n",
       "  <thead>\n",
       "    <tr style=\"text-align: right;\">\n",
       "      <th></th>\n",
       "      <th>Date</th>\n",
       "      <th>Time</th>\n",
       "      <th>Sender</th>\n",
       "      <th>Content</th>\n",
       "    </tr>\n",
       "  </thead>\n",
       "  <tbody>\n",
       "    <tr>\n",
       "      <th>0</th>\n",
       "      <td>09/07/2021</td>\n",
       "      <td>20:39</td>\n",
       "      <td>Messages and calls are end</td>\n",
       "      <td>Missing Text</td>\n",
       "    </tr>\n",
       "    <tr>\n",
       "      <th>1</th>\n",
       "      <td>09/07/2021</td>\n",
       "      <td>20:39</td>\n",
       "      <td>Mathieu</td>\n",
       "      <td>Hello there</td>\n",
       "    </tr>\n",
       "  </tbody>\n",
       "</table>\n",
       "</div>"
      ],
      "text/plain": [
       "         Date   Time                       Sender       Content\n",
       "0  09/07/2021  20:39   Messages and calls are end  Missing Text\n",
       "1  09/07/2021  20:39                      Mathieu   Hello there"
      ]
     },
     "execution_count": 7,
     "metadata": {},
     "output_type": "execute_result"
    }
   ],
   "source": [
    "df = pd.DataFrame(list(zip(date, time, name, content)), columns = ['Date', 'Time', 'Sender', 'Content'])\n",
    "df.head(2)"
   ]
  },
  {
   "cell_type": "code",
   "execution_count": 8,
   "id": "cf894e8b",
   "metadata": {},
   "outputs": [
    {
     "data": {
      "text/html": [
       "<div>\n",
       "<style scoped>\n",
       "    .dataframe tbody tr th:only-of-type {\n",
       "        vertical-align: middle;\n",
       "    }\n",
       "\n",
       "    .dataframe tbody tr th {\n",
       "        vertical-align: top;\n",
       "    }\n",
       "\n",
       "    .dataframe thead th {\n",
       "        text-align: right;\n",
       "    }\n",
       "</style>\n",
       "<table border=\"1\" class=\"dataframe\">\n",
       "  <thead>\n",
       "    <tr style=\"text-align: right;\">\n",
       "      <th></th>\n",
       "      <th>Date</th>\n",
       "      <th>Time</th>\n",
       "      <th>Sender</th>\n",
       "      <th>Content</th>\n",
       "    </tr>\n",
       "  </thead>\n",
       "  <tbody>\n",
       "    <tr>\n",
       "      <th>0</th>\n",
       "      <td>09/07/2021</td>\n",
       "      <td>20:39</td>\n",
       "      <td>Mathieu</td>\n",
       "      <td>Hello there</td>\n",
       "    </tr>\n",
       "  </tbody>\n",
       "</table>\n",
       "</div>"
      ],
      "text/plain": [
       "         Date   Time    Sender       Content\n",
       "0  09/07/2021  20:39   Mathieu   Hello there"
      ]
     },
     "execution_count": 8,
     "metadata": {},
     "output_type": "execute_result"
    }
   ],
   "source": [
    "# drop that first line and I guess anything else that would have missing text for whatever reason\n",
    "df = df[df[\"Content\"]!='Missing Text']\n",
    "df.reset_index(inplace=True, drop=True)\n",
    "df.head(1)"
   ]
  },
  {
   "cell_type": "code",
   "execution_count": 9,
   "id": "973230aa",
   "metadata": {},
   "outputs": [],
   "source": [
    "# it took me so long to figure out that there was a leading space, and I don't know why\n",
    "df.drop(df[df['Content'] == ' <Media omitted>'].index, inplace=True)"
   ]
  },
  {
   "cell_type": "code",
   "execution_count": 10,
   "id": "7b4396b0",
   "metadata": {},
   "outputs": [
    {
     "data": {
      "text/plain": [
       "0                     Hello there\n",
       "1                           oh hi\n",
       "2     Hope you had a good flight \n",
       "3        Well aren’t you up early\n",
       "4                            Why?\n",
       "Name: Content, dtype: object"
      ]
     },
     "execution_count": 10,
     "metadata": {},
     "output_type": "execute_result"
    }
   ],
   "source": [
    "df['Content'].head()"
   ]
  },
  {
   "cell_type": "code",
   "execution_count": 13,
   "id": "d0659e91",
   "metadata": {},
   "outputs": [
    {
     "data": {
      "text/plain": [
       "0                  Hello there\n",
       "3     Well aren’t you up early\n",
       "Name: Content, dtype: object"
      ]
     },
     "execution_count": 13,
     "metadata": {},
     "output_type": "execute_result"
    }
   ],
   "source": [
    "received = df[df['Sender'] == ' Mathieu']\n",
    "received['Content'].head(2)"
   ]
  },
  {
   "cell_type": "code",
   "execution_count": null,
   "id": "964e45f2",
   "metadata": {},
   "outputs": [],
   "source": [
    "text = received['Content'].values \n",
    "text[0]"
   ]
  }
 ],
 "metadata": {
  "kernelspec": {
   "display_name": "Python 3 (ipykernel)",
   "language": "python",
   "name": "python3"
  },
  "language_info": {
   "codemirror_mode": {
    "name": "ipython",
    "version": 3
   },
   "file_extension": ".py",
   "mimetype": "text/x-python",
   "name": "python",
   "nbconvert_exporter": "python",
   "pygments_lexer": "ipython3",
   "version": "3.10.6"
  }
 },
 "nbformat": 4,
 "nbformat_minor": 5
}
