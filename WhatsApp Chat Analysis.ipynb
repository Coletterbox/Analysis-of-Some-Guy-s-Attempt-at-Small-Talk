{
 "cells": [
  {
   "cell_type": "code",
   "execution_count": 1,
   "id": "f19514a6",
   "metadata": {},
   "outputs": [],
   "source": [
    "import pandas as pd\n",
    "import numpy as np\n",
    "import re\n",
    "import dateparser\n",
    "from collections import Counter"
   ]
  },
  {
   "cell_type": "code",
   "execution_count": 2,
   "id": "2cc16445",
   "metadata": {},
   "outputs": [],
   "source": [
    "def read_file(file):\n",
    "    x = open(file,'r', encoding = 'utf-8')\n",
    "    y = x.read()\n",
    "    content = y.splitlines()\n",
    "    return content"
   ]
  },
  {
   "cell_type": "code",
   "execution_count": 3,
   "id": "d0762a47",
   "metadata": {},
   "outputs": [
    {
     "data": {
      "text/plain": [
       "'09/07/2021, 20:39 - Mathieu: Hello there'"
      ]
     },
     "execution_count": 3,
     "metadata": {},
     "output_type": "execute_result"
    }
   ],
   "source": [
    "# the text file is just a WhatsApp chat log import\n",
    "chat = read_file('Chat2.txt')\n",
    "chat[1]"
   ]
  },
  {
   "cell_type": "code",
   "execution_count": null,
   "id": "9809989f",
   "metadata": {},
   "outputs": [],
   "source": []
  }
 ],
 "metadata": {
  "kernelspec": {
   "display_name": "Python 3 (ipykernel)",
   "language": "python",
   "name": "python3"
  },
  "language_info": {
   "codemirror_mode": {
    "name": "ipython",
    "version": 3
   },
   "file_extension": ".py",
   "mimetype": "text/x-python",
   "name": "python",
   "nbconvert_exporter": "python",
   "pygments_lexer": "ipython3",
   "version": "3.10.6"
  }
 },
 "nbformat": 4,
 "nbformat_minor": 5
}
